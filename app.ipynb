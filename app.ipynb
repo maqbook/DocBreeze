{
 "cells": [
  {
   "cell_type": "code",
   "execution_count": null,
   "id": "24f6960c-9166-4712-9b82-20aec7a6dfe6",
   "metadata": {},
   "outputs": [],
   "source": [
    "%pip install -U langchain-community faiss-cpu langchain-huggingface pymupdf tiktoken langchain-ollama python-dotenv langchain"
   ]
  },
  {
   "cell_type": "code",
   "execution_count": null,
   "id": "016c5cdc-410d-484e-aeb1-96593b098415",
   "metadata": {},
   "outputs": [],
   "source": [
    "import os\n",
    "import warnings\n",
    "from dotenv import load_dotenv\n",
    "\n",
    "os.environ['KMP_DUPLICATE_LIB_OK'] = 'True'\n",
    "warnings.filterwarnings(\"ignore\")\n",
    "load_dotenv()"
   ]
  },
  {
   "cell_type": "markdown",
   "id": "274ebaeb",
   "metadata": {},
   "source": [
    "### Document Loading"
   ]
  },
  {
   "cell_type": "code",
   "execution_count": 8,
   "id": "4e14acfc",
   "metadata": {},
   "outputs": [],
   "source": [
    "from langchain_community.document_loaders import PyMuPDFLoader\n",
    "\n",
    "loader = PyMuPDFLoader(\"./rag_dataset/military_docs/Deep_Reinforcement_Learning-Ba.pdf\")\n",
    "\n",
    "docs = loader.load()"
   ]
  },
  {
   "cell_type": "code",
   "execution_count": 9,
   "id": "25f2ead1",
   "metadata": {},
   "outputs": [],
   "source": [
    "doc = docs[0]\n",
    "# print(doc.page_content)"
   ]
  },
  {
   "cell_type": "code",
   "execution_count": 10,
   "id": "3b71f5c9",
   "metadata": {},
   "outputs": [],
   "source": [
    "import os\n",
    "\n",
    "pdfs = []\n",
    "for root, dirs, files in os.walk('rag_dataset'):\n",
    "    # print(root, dirs, files)\n",
    "    for file in files:\n",
    "        if file.endswith('.pdf'):\n",
    "            pdfs.append(os.path.join(root, file))"
   ]
  },
  {
   "cell_type": "code",
   "execution_count": 11,
   "id": "151510aa",
   "metadata": {},
   "outputs": [],
   "source": [
    "docs = []\n",
    "for pdf in pdfs:\n",
    "    loader = PyMuPDFLoader(pdf)\n",
    "    pages = loader.load()\n",
    "    docs.extend(pages)"
   ]
  },
  {
   "cell_type": "code",
   "execution_count": null,
   "id": "415de892",
   "metadata": {},
   "outputs": [],
   "source": [
    "len(docs)"
   ]
  },
  {
   "cell_type": "markdown",
   "id": "8a30c324",
   "metadata": {},
   "source": [
    "### Document Chunking"
   ]
  },
  {
   "cell_type": "code",
   "execution_count": 13,
   "id": "c3eff584",
   "metadata": {},
   "outputs": [],
   "source": [
    "from langchain_text_splitters import RecursiveCharacterTextSplitter\n",
    "\n",
    "text_splitter = RecursiveCharacterTextSplitter(chunk_size=1000, chunk_overlap=100)\n",
    "\n",
    "chunks = text_splitter.split_documents(docs)"
   ]
  },
  {
   "cell_type": "code",
   "execution_count": null,
   "id": "d1cf8959",
   "metadata": {},
   "outputs": [],
   "source": [
    "# document pages vs chunks\n",
    "len(docs), len(chunks)"
   ]
  },
  {
   "cell_type": "code",
   "execution_count": null,
   "id": "c9fbaf08",
   "metadata": {},
   "outputs": [],
   "source": [
    "# character count of first document page vs first chunk page\n",
    "len(docs[0].page_content), len(chunks[0].page_content)"
   ]
  },
  {
   "cell_type": "code",
   "execution_count": null,
   "id": "8de1afe1",
   "metadata": {},
   "outputs": [],
   "source": [
    "import tiktoken\n",
    "\n",
    "encoding = tiktoken.encoding_for_model('gpt-4o-mini')\n",
    "\n",
    "len(encoding.encode(docs[0].page_content)), len(encoding.encode(chunks[0].page_content))\n"
   ]
  },
  {
   "cell_type": "markdown",
   "id": "19c7cae1",
   "metadata": {},
   "source": [
    "### Document Vector Embedding"
   ]
  },
  {
   "cell_type": "code",
   "execution_count": 17,
   "id": "e6a05b14",
   "metadata": {},
   "outputs": [],
   "source": [
    "from langchain_ollama import OllamaEmbeddings\n",
    "\n",
    "import faiss\n",
    "from langchain_community.vectorstores import FAISS\n",
    "from langchain_community.docstore.in_memory import InMemoryDocstore"
   ]
  },
  {
   "cell_type": "code",
   "execution_count": 18,
   "id": "89ce9d98",
   "metadata": {},
   "outputs": [],
   "source": [
    "embeddings = OllamaEmbeddings(model='nomic-embed-text', base_url=\"http://localhost:11434\")\n",
    "\n",
    "single_vector = embeddings.embed_query(\"rambutan is the best fruit!\")"
   ]
  },
  {
   "cell_type": "code",
   "execution_count": null,
   "id": "1358b49f",
   "metadata": {},
   "outputs": [],
   "source": [
    "len(single_vector)"
   ]
  },
  {
   "cell_type": "code",
   "execution_count": null,
   "id": "7f48b006",
   "metadata": {},
   "outputs": [],
   "source": [
    "index = faiss.IndexFlatL2(len(single_vector))\n",
    "index.ntotal, index.d"
   ]
  },
  {
   "cell_type": "code",
   "execution_count": 21,
   "id": "4ab0154e",
   "metadata": {},
   "outputs": [],
   "source": [
    "vector_store = FAISS(\n",
    "    embedding_function = embeddings,\n",
    "    index = index,\n",
    "    docstore = InMemoryDocstore(),\n",
    "    index_to_docstore_id={}\n",
    ")"
   ]
  },
  {
   "cell_type": "code",
   "execution_count": null,
   "id": "45515247",
   "metadata": {},
   "outputs": [],
   "source": [
    "len(chunks)"
   ]
  },
  {
   "cell_type": "code",
   "execution_count": 23,
   "id": "12ef62af",
   "metadata": {},
   "outputs": [],
   "source": [
    "ids = vector_store.add_documents(documents=chunks)"
   ]
  },
  {
   "cell_type": "code",
   "execution_count": null,
   "id": "ed0ebe69",
   "metadata": {},
   "outputs": [],
   "source": [
    "vector_store.index_to_docstore_id\n",
    "len(ids)"
   ]
  },
  {
   "cell_type": "code",
   "execution_count": 72,
   "id": "c9e2e9b9",
   "metadata": {},
   "outputs": [],
   "source": [
    "# store vector database\n",
    "# db_name = 'military_info'\n",
    "# vector_store.save_local(db_name)\n",
    "\n",
    "# load the vector database\n",
    "# new_vector_store = FAISS.load_local(db_name, embeddings=embeddings, allow_dangerous_deserialization=True)"
   ]
  },
  {
   "cell_type": "markdown",
   "id": "dc2d8da7",
   "metadata": {},
   "source": [
    "### Retrieval"
   ]
  },
  {
   "cell_type": "code",
   "execution_count": null,
   "id": "66d83ea2",
   "metadata": {},
   "outputs": [],
   "source": [
    "question = \"How can VR be used in military training?\"\n",
    "docs = vector_store.search(query=question, search_type='similarity')\n",
    "\n",
    "for doc in docs:\n",
    "    print(doc.page_content)\n",
    "    print(\"\\n\\n\")"
   ]
  },
  {
   "cell_type": "code",
   "execution_count": 26,
   "id": "100874fd",
   "metadata": {},
   "outputs": [],
   "source": [
    "retriever = vector_store.as_retriever(search_type='mmr', search_kwargs={'k': 3, 'fetch_k': 100, 'lambda_mult': 1})"
   ]
  },
  {
   "cell_type": "code",
   "execution_count": null,
   "id": "8fd76c7d",
   "metadata": {},
   "outputs": [],
   "source": [
    "docs = retriever.invoke(question)\n",
    "# for doc in docs:\n",
    "#     print(doc.page_content)\n",
    "#     print(\"\\n\\n\")\n",
    "\n",
    "question = \"Summarize the conclusion of the VR_Training_Opportunities_in_t.pdf document\"\n",
    "docs = retriever.invoke(question)\n",
    "output = rag_chain.invoke(question)\n",
    "print(output)"
   ]
  },
  {
   "cell_type": "markdown",
   "id": "ed40caf1",
   "metadata": {},
   "source": [
    "### R.A.G w/ LLAMA 3.2 (3b params)"
   ]
  },
  {
   "cell_type": "code",
   "execution_count": 30,
   "id": "34aa966d",
   "metadata": {},
   "outputs": [],
   "source": [
    "from langchain import hub # uploading, browsing, pulling & managing prompts\n",
    "from langchain_core.output_parsers import StrOutputParser # gives final output as string data\n",
    "from langchain_core.runnables import RunnablePassthrough # pass question & context directly to the model\n",
    "from langchain_core.prompts import ChatPromptTemplate # pass prompt, context & question\n",
    "\n",
    "from langchain_ollama import ChatOllama # makes connection from your model to langchain"
   ]
  },
  {
   "cell_type": "code",
   "execution_count": null,
   "id": "b24870cc",
   "metadata": {},
   "outputs": [],
   "source": [
    "model = ChatOllama(model=\"llama3.2\", base_url=\"http://localhost:11434\")\n",
    "\n",
    "model.invoke(\"oi!\")"
   ]
  },
  {
   "cell_type": "code",
   "execution_count": 86,
   "id": "49b97ef0",
   "metadata": {},
   "outputs": [],
   "source": [
    "# prompt = hub.pull(\"langchain-ai/rag-fusion-query-generation\")"
   ]
  },
  {
   "cell_type": "code",
   "execution_count": 32,
   "id": "3469898d",
   "metadata": {},
   "outputs": [],
   "source": [
    "prompt = \"\"\" \n",
    "You are an assistant for question-answering tasks. \n",
    "Use the following retrieved information to answer the questions. \n",
    "If you don't know, just state that you don't know. Use three sentences maximum, keeping the answer concise.\n",
    "Question: {question}\n",
    "Context: {context}\n",
    "Answer:\n",
    "\"\"\"\n",
    "\n",
    "prompt = ChatPromptTemplate.from_template(prompt)"
   ]
  },
  {
   "cell_type": "code",
   "execution_count": null,
   "id": "eec83a70",
   "metadata": {},
   "outputs": [],
   "source": [
    "def format_docs(docs):\n",
    "    return \"\\n\\n\".join([doc.page_content for doc in docs])\n",
    "print(format_docs(docs))"
   ]
  },
  {
   "cell_type": "code",
   "execution_count": 34,
   "id": "438d1baa",
   "metadata": {},
   "outputs": [],
   "source": [
    "rag_chain = (\n",
    "    {\"context\": retriever | format_docs, \"question\": RunnablePassthrough()}\n",
    "    | prompt\n",
    "    | model\n",
    "    | StrOutputParser()\n",
    ")"
   ]
  }
 ],
 "metadata": {
  "kernelspec": {
   "display_name": ".venv",
   "language": "python",
   "name": "python3"
  },
  "language_info": {
   "codemirror_mode": {
    "name": "ipython",
    "version": 3
   },
   "file_extension": ".py",
   "mimetype": "text/x-python",
   "name": "python",
   "nbconvert_exporter": "python",
   "pygments_lexer": "ipython3",
   "version": "3.12.4"
  }
 },
 "nbformat": 4,
 "nbformat_minor": 5
}

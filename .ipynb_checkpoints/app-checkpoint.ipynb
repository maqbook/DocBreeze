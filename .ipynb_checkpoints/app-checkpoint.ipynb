{
 "cells": [
  {
   "cell_type": "code",
   "execution_count": 75,
   "id": "24f6960c-9166-4712-9b82-20aec7a6dfe6",
   "metadata": {},
   "outputs": [],
   "source": [
    "# !pip install -U langchain-community faiss-cpu langchain-huggingface pymupdf tiktoken langchain-ollama python-dotenv langchain"
   ]
  },
  {
   "cell_type": "code",
   "execution_count": 3,
   "id": "016c5cdc-410d-484e-aeb1-96593b098415",
   "metadata": {},
   "outputs": [
    {
     "data": {
      "text/plain": [
       "True"
      ]
     },
     "execution_count": 3,
     "metadata": {},
     "output_type": "execute_result"
    }
   ],
   "source": [
    "import os\n",
    "import warnings\n",
    "from dotenv import load_dotenv\n",
    "\n",
    "os.environ['KMP_DUPLICATE_LIB_OK'] = 'True'\n",
    "warnings.filterwarnings(\"ignore\")\n",
    "load_dotenv()"
   ]
  },
  {
   "cell_type": "markdown",
   "id": "274ebaeb",
   "metadata": {},
   "source": [
    "### Document Loading"
   ]
  },
  {
   "cell_type": "code",
   "execution_count": 13,
   "id": "4e14acfc",
   "metadata": {},
   "outputs": [],
   "source": [
    "from langchain_community.document_loaders import PyMuPDFLoader\n",
    "\n",
    "loader = PyMuPDFLoader(\"./rag_dataset/military_docs/Deep_Reinforcement_Learning-Ba.pdf\")\n",
    "\n",
    "docs = loader.load()"
   ]
  },
  {
   "cell_type": "code",
   "execution_count": 14,
   "id": "25f2ead1",
   "metadata": {},
   "outputs": [],
   "source": [
    "doc = docs[0]\n",
    "# print(doc.page_content)"
   ]
  },
  {
   "cell_type": "code",
   "execution_count": 18,
   "id": "3b71f5c9",
   "metadata": {},
   "outputs": [],
   "source": [
    "import os\n",
    "\n",
    "pdfs = []\n",
    "for root, dirs, files in os.walk('rag_dataset'):\n",
    "    # print(root, dirs, files)\n",
    "    for file in files:\n",
    "        if file.endswith('.pdf'):\n",
    "            pdfs.append(os.path.join(root, file))"
   ]
  },
  {
   "cell_type": "code",
   "execution_count": 21,
   "id": "151510aa",
   "metadata": {},
   "outputs": [],
   "source": [
    "docs = []\n",
    "for pdf in pdfs:\n",
    "    loader = PyMuPDFLoader(pdf)\n",
    "    pages = loader.load()\n",
    "    docs.extend(pages)"
   ]
  },
  {
   "cell_type": "code",
   "execution_count": 23,
   "id": "415de892",
   "metadata": {},
   "outputs": [
    {
     "data": {
      "text/plain": [
       "73"
      ]
     },
     "execution_count": 23,
     "metadata": {},
     "output_type": "execute_result"
    }
   ],
   "source": [
    "len(docs)"
   ]
  },
  {
   "cell_type": "markdown",
   "id": "8a30c324",
   "metadata": {},
   "source": [
    "### Document Chunking"
   ]
  },
  {
   "cell_type": "code",
   "execution_count": 24,
   "id": "c3eff584",
   "metadata": {},
   "outputs": [],
   "source": [
    "from langchain_text_splitters import RecursiveCharacterTextSplitter\n",
    "\n",
    "text_splitter = RecursiveCharacterTextSplitter(chunk_size=1000, chunk_overlap=100)\n",
    "\n",
    "chunks = text_splitter.split_documents(docs)"
   ]
  },
  {
   "cell_type": "code",
   "execution_count": 27,
   "id": "d1cf8959",
   "metadata": {},
   "outputs": [
    {
     "data": {
      "text/plain": [
       "(73, 250)"
      ]
     },
     "execution_count": 27,
     "metadata": {},
     "output_type": "execute_result"
    }
   ],
   "source": [
    "# document pages vs chunks\n",
    "len(docs), len(chunks)"
   ]
  },
  {
   "cell_type": "code",
   "execution_count": 41,
   "id": "c9fbaf08",
   "metadata": {},
   "outputs": [
    {
     "data": {
      "text/plain": [
       "(4066, 926)"
      ]
     },
     "execution_count": 41,
     "metadata": {},
     "output_type": "execute_result"
    }
   ],
   "source": [
    "# character count of first document page vs first chunk page\n",
    "len(docs[0].page_content), len(chunks[0].page_content)"
   ]
  },
  {
   "cell_type": "code",
   "execution_count": 44,
   "id": "8de1afe1",
   "metadata": {},
   "outputs": [
    {
     "data": {
      "text/plain": [
       "(840, 242)"
      ]
     },
     "execution_count": 44,
     "metadata": {},
     "output_type": "execute_result"
    }
   ],
   "source": [
    "import tiktoken\n",
    "\n",
    "encoding = tiktoken.encoding_for_model('gpt-4o-mini')\n",
    "\n",
    "len(encoding.encode(docs[0].page_content)), len(encoding.encode(chunks[0].page_content))\n"
   ]
  },
  {
   "cell_type": "markdown",
   "id": "19c7cae1",
   "metadata": {},
   "source": [
    "### Document Vector Embedding"
   ]
  },
  {
   "cell_type": "code",
   "execution_count": 48,
   "id": "e6a05b14",
   "metadata": {},
   "outputs": [],
   "source": [
    "from langchain_ollama import OllamaEmbeddings\n",
    "\n",
    "import faiss\n",
    "from langchain_community.vectorstores import FAISS\n",
    "from langchain_community.docstore.in_memory import InMemoryDocstore"
   ]
  },
  {
   "cell_type": "code",
   "execution_count": 56,
   "id": "89ce9d98",
   "metadata": {},
   "outputs": [],
   "source": [
    "embeddings = OllamaEmbeddings(model='nomic-embed-text', base_url=\"http://localhost:11434\")\n",
    "\n",
    "single_vector = embeddings.embed_query(\"rambutan is the best fruit!\")"
   ]
  },
  {
   "cell_type": "code",
   "execution_count": 57,
   "id": "1358b49f",
   "metadata": {},
   "outputs": [
    {
     "data": {
      "text/plain": [
       "768"
      ]
     },
     "execution_count": 57,
     "metadata": {},
     "output_type": "execute_result"
    }
   ],
   "source": [
    "len(single_vector)"
   ]
  },
  {
   "cell_type": "code",
   "execution_count": 60,
   "id": "7f48b006",
   "metadata": {},
   "outputs": [
    {
     "data": {
      "text/plain": [
       "(0, 768)"
      ]
     },
     "execution_count": 60,
     "metadata": {},
     "output_type": "execute_result"
    }
   ],
   "source": [
    "index = faiss.IndexFlatL2(len(single_vector))\n",
    "index.ntotal, index.d"
   ]
  },
  {
   "cell_type": "code",
   "execution_count": 62,
   "id": "4ab0154e",
   "metadata": {},
   "outputs": [],
   "source": [
    "vector_store = FAISS(\n",
    "    embedding_function = embeddings,\n",
    "    index = index,\n",
    "    docstore = InMemoryDocstore(),\n",
    "    index_to_docstore_id={}\n",
    ")"
   ]
  },
  {
   "cell_type": "code",
   "execution_count": 64,
   "id": "45515247",
   "metadata": {},
   "outputs": [
    {
     "data": {
      "text/plain": [
       "250"
      ]
     },
     "execution_count": 64,
     "metadata": {},
     "output_type": "execute_result"
    }
   ],
   "source": [
    "len(chunks)"
   ]
  },
  {
   "cell_type": "code",
   "execution_count": 65,
   "id": "12ef62af",
   "metadata": {},
   "outputs": [],
   "source": [
    "ids = vector_store.add_documents(documents=chunks)"
   ]
  },
  {
   "cell_type": "code",
   "execution_count": 67,
   "id": "ed0ebe69",
   "metadata": {},
   "outputs": [
    {
     "data": {
      "text/plain": [
       "250"
      ]
     },
     "execution_count": 67,
     "metadata": {},
     "output_type": "execute_result"
    }
   ],
   "source": [
    "vector_store.index_to_docstore_id\n",
    "len(ids)"
   ]
  },
  {
   "cell_type": "code",
   "execution_count": 72,
   "id": "c9e2e9b9",
   "metadata": {},
   "outputs": [],
   "source": [
    "# store vector database\n",
    "# db_name = 'military_info'\n",
    "# vector_store.save_local(db_name)\n",
    "\n",
    "# load the vector database\n",
    "# new_vector_store = FAISS.load_local(db_name, embeddings=embeddings, allow_dangerous_deserialization=True)"
   ]
  },
  {
   "cell_type": "markdown",
   "id": "dc2d8da7",
   "metadata": {},
   "source": [
    "### Retrieval"
   ]
  },
  {
   "cell_type": "code",
   "execution_count": 76,
   "id": "66d83ea2",
   "metadata": {},
   "outputs": [
    {
     "name": "stdout",
     "output_type": "stream",
     "text": [
      "tests and according to the purpose of the GTS system – we dig deeper into \n",
      "the individual and sub-unit infantry training. Considering the current state of \n",
      "development, we present the training areas where the introduction of VR can \n",
      "be particularly beneficial.\n",
      "Keywords: military training, VR, AR, simulation, immersivity\n",
      "Introduction\n",
      "The well-known fact that military developments bring breakthroughs in technology is still \n",
      "true, but some technologies are spreading and refining much faster in the civilian sector. \n",
      "An example of this is VR (virtual reality) technology. Extensive research was done in \n",
      "this area decades ago, but certain boundaries could not be crossed at that time. A major \n",
      "development started when the hardware and software of Oculus’s first VR devices became \n",
      "open source and the potential for entertainment was recognised. As consumer VR devices \n",
      "gained popularity, many companies started to develop headsets and software. Later, these\n",
      "\n",
      "\n",
      "\n",
      "the capabilities of today’s VR technology.\n",
      "Because of the above-described features of VR technology, we state that the primary \n",
      "role of VR training is now at the level of the individual. Therefore, at this level, there is \n",
      "already a wide range of options available.\n",
      "Primarily, where the individual soldier employs a complex machine (tank, bulldozer, \n",
      "aircraft etc.), it is useful to teach the handling of the basic switches and handles in the VR \n",
      "because if something goes wrong, the – usually – expensive asset will get damaged. It is \n",
      "a lot cheaper and easier to build the dashboard of the complex machine in the virtual space \n",
      "and practice procedures multiple times than to use the actual military hardware for basic \n",
      "operator training. Furthermore, there are emergency situations (e.g. fire or explosion) that \n",
      "cannot be practised on the actual equipment.\n",
      "For shooting training, of course, the live fire exercises are indispensable. However,\n",
      "\n",
      "\n",
      "\n",
      "After reviewing the training options in these training types, we have thoroughly \n",
      "examined the VR’s options in the field of individual and sub-unit level infantry tactics \n",
      "training. We have found an enormous number of opportunities where VR can save a lot \n",
      "of time and other resources (money, ammunition, lifespan of weapons, etc.) for the HDF. \n",
      "Furthermore, VR has other advantages regarding the methodology of the training. VR \n",
      "technology enables the difficulty of training to be increased according to the purpose \n",
      "of the unit and the capabilities of the trainees. Furthermore, the training events can be \n",
      "recorded and replayed for more objective assessment and analysis.\n",
      "All in all, we can firmly state that even at the current level of development, VR-based \n",
      "training can have a lot of advantages and can further help the training process if used at \n",
      "the correct level and at the correct phase of the process.\n",
      "References\n",
      "\n",
      "\n",
      "\n",
      "training. We think that the greatest opportunity in VR currently is the following:\n",
      "•\t classifying threats and targets\n",
      "•\t practising giving and executing firing orders\n",
      "24\t\n",
      "Department of the Army 2010: 5-3.\n",
      "\n",
      "\n",
      "\n"
     ]
    }
   ],
   "source": [
    "question = \"How can VR be used in military training?\"\n",
    "docs = vector_store.search(query=question, search_type='similarity')\n",
    "\n",
    "for doc in docs:\n",
    "    print(doc.page_content)\n",
    "    print(\"\\n\\n\")"
   ]
  },
  {
   "cell_type": "code",
   "execution_count": 77,
   "id": "100874fd",
   "metadata": {},
   "outputs": [],
   "source": [
    "retriever = vector_store.as_retriever(search_type='mmr', search_kwargs={'k': 3, 'fetch_k': 100, 'lambda_mult': 1})"
   ]
  },
  {
   "cell_type": "code",
   "execution_count": 93,
   "id": "8fd76c7d",
   "metadata": {},
   "outputs": [
    {
     "name": "stdout",
     "output_type": "stream",
     "text": [
      "An intrusion detection system is a security tool that continuously monitors industrial control systems for signs of unauthorized access or malicious activity. It provides alerts when potential threats are detected, allowing engineers to respond promptly and prevent financial damage. Intrusion detection systems use various techniques, including rule-based approaches and deep learning, to improve accuracy.\n"
     ]
    }
   ],
   "source": [
    "docs = retriever.invoke(question)\n",
    "# for doc in docs:\n",
    "#     print(doc.page_content)\n",
    "#     print(\"\\n\\n\")\n",
    "\n",
    "question = \"What is an intrusion detection system?\"\n",
    "# docs = retriever.invoke(question)\n",
    "output = rag_chain.invoke(question)\n",
    "print(output)"
   ]
  },
  {
   "cell_type": "markdown",
   "id": "ed40caf1",
   "metadata": {},
   "source": [
    "### R.A.G w/ LLAMA 3.2 (3b params)"
   ]
  },
  {
   "cell_type": "code",
   "execution_count": 83,
   "id": "34aa966d",
   "metadata": {},
   "outputs": [],
   "source": [
    "from langchain import hub # uploading, browsing, pulling & managing prompts\n",
    "from langchain_core.output_parsers import StrOutputParser # gives final output as string data\n",
    "from langchain_core.runnables import RunnablePassthrough # pass question & context directly to the model\n",
    "from langchain_core.prompts import ChatPromptTemplate # pass prompt, context & question\n",
    "\n",
    "from langchain_ollama import ChatOllama # makes connection from your model to langchain"
   ]
  },
  {
   "cell_type": "code",
   "execution_count": 85,
   "id": "b24870cc",
   "metadata": {},
   "outputs": [
    {
     "data": {
      "text/plain": [
       "AIMessage(content=\"Oi back at ya! How's it going? Is there something I can help you with or would you like to chat?\", additional_kwargs={}, response_metadata={'model': 'llama3.2', 'created_at': '2024-12-30T08:07:29.7845378Z', 'done': True, 'done_reason': 'stop', 'total_duration': 640117500, 'load_duration': 18687600, 'prompt_eval_count': 27, 'prompt_eval_duration': 23000000, 'eval_count': 26, 'eval_duration': 597000000, 'message': Message(role='assistant', content='', images=None, tool_calls=None)}, id='run-f1683899-db7a-41fc-b0e6-3229547b6bf5-0', usage_metadata={'input_tokens': 27, 'output_tokens': 26, 'total_tokens': 53})"
      ]
     },
     "execution_count": 85,
     "metadata": {},
     "output_type": "execute_result"
    }
   ],
   "source": [
    "model = ChatOllama(model=\"llama3.2\", base_url=\"http://localhost:11434\")\n",
    "\n",
    "model.invoke(\"oi!\")"
   ]
  },
  {
   "cell_type": "code",
   "execution_count": 86,
   "id": "49b97ef0",
   "metadata": {},
   "outputs": [],
   "source": [
    "prompt = hub.pull(\"langchain-ai/rag-fusion-query-generation\")"
   ]
  },
  {
   "cell_type": "code",
   "execution_count": 89,
   "id": "3469898d",
   "metadata": {},
   "outputs": [],
   "source": [
    "prompt = \"\"\" \n",
    "You are an assistant for question-answering tasks. \n",
    "Use the following retrieved information to answer the questions. \n",
    "If you don't know, just state that you don't know. Use three sentences maximum, keeping the answer concise.\n",
    "Question: {question}\n",
    "Context: {context}\n",
    "Answer:\n",
    "\"\"\"\n",
    "\n",
    "prompt = ChatPromptTemplate.from_template(prompt)"
   ]
  },
  {
   "cell_type": "code",
   "execution_count": 90,
   "id": "eec83a70",
   "metadata": {},
   "outputs": [
    {
     "name": "stdout",
     "output_type": "stream",
     "text": [
      "Maroochy wastewater system attack, the Stuxnet worm attack, and the German steel plant\n",
      "attack, have inflicted substantial financial damage on related facilities [3–5]. Recently, a\n",
      "growing number of studies have been dedicated to developing intrusion detection systems\n",
      "aimed at improving the security of industrial control systems [6–10]. Intrusion detection\n",
      "systems continuously monitor the status of the system and provide a warning in the event\n",
      "of an attack, enabling engineers to respond promptly. The accuracy of intrusion detection\n",
      "systems for securing industrial control systems has improved through the use of rule-based\n",
      "approaches [2] and deep learning-based techniques [11].\n",
      "Along with developing algorithms to improve the accuracy of intrusion detection\n",
      "systems, research has also been conducted on methods for generating adversarial attacks\n",
      "to evaluate the performance of intrusion detection systems [12–18]. Among the various\n",
      "\n",
      "to evaluate the performance of intrusion detection systems [12–18]. Among the various\n",
      "methods for adversarial attacks, this paper focuses on man-in-the-middle attacks that\n",
      "manipulate sensor measurements or actuator configurations in industrial control systems.\n",
      "In industrial control systems, a programmable logic controller (PLC) acts as a control device\n",
      "that receives measurements from sensors and determines the configurations for actuators.\n",
      "To carry out a man-in-the-middle attack, an adversarial attacker positions itself between\n",
      "Mathematics 2024, 12, 3900. https://doi.org/10.3390/math12243900\n",
      "https://www.mdpi.com/journal/mathematics\n",
      "\n",
      "intrusion detection systems. Dig. Threat. Res. Pract. 2022, 3, 1–19. [CrossRef]\n",
      "18.\n",
      "Anton, S.D.; Kanoor, S.; Fraunholz, D.; Schotten, H.D. Evaluation of machine learning-based anomaly detection algorithms on an\n",
      "industrial modbus/tcp data set. In Proceedings of the 13th International Conference on Availability, Reliability and Security\n",
      "(ARES’18), New York, NY, USA, 27–30 August 2018; pp. 1–9.\n",
      "19.\n",
      "Mathur, A.P.; Tippenhauer, N.O. SWaT: A water treatment testbed for research and training on ICS security. In Proceedings of the\n",
      "2016 International Workshop on Cyber-Physical Systems for Smart Water Networks (CySWater), Vienna, Austria, 11 April 2016;\n",
      "pp. 31–36.\n",
      "20.\n",
      "Goh, J.; Adepu, S.; Junejo, K.N.; Mathur, A. A dataset to support research in the design of secure water treatment systems. In\n",
      "Proceedings of the Critical Information Infrastructures Security, Paris, France, 10–12 October 2016; pp. 88–99.\n",
      "21.\n"
     ]
    }
   ],
   "source": [
    "def format_docs(docs):\n",
    "    return \"\\n\\n\".join([doc.page_content for doc in docs])\n",
    "print(format_docs(docs))"
   ]
  },
  {
   "cell_type": "code",
   "execution_count": 91,
   "id": "438d1baa",
   "metadata": {},
   "outputs": [],
   "source": [
    "rag_chain = (\n",
    "    {\"context\": retriever | format_docs, \"question\": RunnablePassthrough()}\n",
    "    | prompt\n",
    "    | model\n",
    "    | StrOutputParser()\n",
    ")"
   ]
  }
 ],
 "metadata": {
  "kernelspec": {
   "display_name": ".venv",
   "language": "python",
   "name": "python3"
  },
  "language_info": {
   "codemirror_mode": {
    "name": "ipython",
    "version": 3
   },
   "file_extension": ".py",
   "mimetype": "text/x-python",
   "name": "python",
   "nbconvert_exporter": "python",
   "pygments_lexer": "ipython3",
   "version": "3.12.4"
  }
 },
 "nbformat": 4,
 "nbformat_minor": 5
}
